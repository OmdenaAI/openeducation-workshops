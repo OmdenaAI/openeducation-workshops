{
  "nbformat": 4,
  "nbformat_minor": 0,
  "metadata": {
    "colab": {
      "name": "Omdena Sentiment Analysis.ipynb",
      "provenance": [],
      "collapsed_sections": []
    },
    "kernelspec": {
      "name": "python3",
      "display_name": "Python 3"
    },
    "language_info": {
      "name": "python"
    }
  },
  "cells": [
    {
      "cell_type": "code",
      "metadata": {
        "colab": {
          "base_uri": "https://localhost:8080/"
        },
        "id": "PfM2I1yMseFl",
        "outputId": "f3843e84-da82-4baf-bcd6-c8fe4b1a005e"
      },
      "source": [
        "!pip install emoji"
      ],
      "execution_count": null,
      "outputs": [
        {
          "output_type": "stream",
          "text": [
            "Requirement already satisfied: emoji in /usr/local/lib/python3.7/dist-packages (1.2.0)\n"
          ],
          "name": "stdout"
        }
      ]
    },
    {
      "cell_type": "code",
      "metadata": {
        "id": "FZDO3IMrlyGW",
        "colab": {
          "base_uri": "https://localhost:8080/"
        },
        "outputId": "c6e16a5d-a351-49c9-dfe9-24a510c7f3b1"
      },
      "source": [
        "import re\n",
        "import numpy as np\n",
        "import pandas as pd\n",
        "\n",
        "from lxml import html\n",
        "from emoji import demojize\n",
        "\n",
        "import nltk\n",
        "nltk.download('stopwords')\n",
        "\n",
        "from nltk.corpus import stopwords\n",
        "from nltk.stem import PorterStemmer"
      ],
      "execution_count": null,
      "outputs": [
        {
          "output_type": "stream",
          "text": [
            "[nltk_data] Downloading package stopwords to /root/nltk_data...\n",
            "[nltk_data]   Package stopwords is already up-to-date!\n"
          ],
          "name": "stdout"
        }
      ]
    },
    {
      "cell_type": "code",
      "metadata": {
        "colab": {
          "base_uri": "https://localhost:8080/",
          "height": 204
        },
        "id": "9VACYdSnHjGY",
        "outputId": "e1e1c754-c3c1-4172-9baf-f972aaa96df6"
      },
      "source": [
        "df = pd.read_csv('/content/drive/MyDrive/tweet_data.csv')\n",
        "df.head()"
      ],
      "execution_count": null,
      "outputs": [
        {
          "output_type": "execute_result",
          "data": {
            "text/html": [
              "<div>\n",
              "<style scoped>\n",
              "    .dataframe tbody tr th:only-of-type {\n",
              "        vertical-align: middle;\n",
              "    }\n",
              "\n",
              "    .dataframe tbody tr th {\n",
              "        vertical-align: top;\n",
              "    }\n",
              "\n",
              "    .dataframe thead th {\n",
              "        text-align: right;\n",
              "    }\n",
              "</style>\n",
              "<table border=\"1\" class=\"dataframe\">\n",
              "  <thead>\n",
              "    <tr style=\"text-align: right;\">\n",
              "      <th></th>\n",
              "      <th>text</th>\n",
              "      <th>sentiment</th>\n",
              "    </tr>\n",
              "  </thead>\n",
              "  <tbody>\n",
              "    <tr>\n",
              "      <th>0</th>\n",
              "      <td>Sooo SAD I will miss you here in San Diego!!!</td>\n",
              "      <td>negative</td>\n",
              "    </tr>\n",
              "    <tr>\n",
              "      <th>1</th>\n",
              "      <td>my boss is bullying me...</td>\n",
              "      <td>negative</td>\n",
              "    </tr>\n",
              "    <tr>\n",
              "      <th>2</th>\n",
              "      <td>what interview! leave me alone</td>\n",
              "      <td>negative</td>\n",
              "    </tr>\n",
              "    <tr>\n",
              "      <th>3</th>\n",
              "      <td>Sons of ****, why couldn`t they put them on t...</td>\n",
              "      <td>negative</td>\n",
              "    </tr>\n",
              "    <tr>\n",
              "      <th>4</th>\n",
              "      <td>2am feedings for the baby are fun when he is a...</td>\n",
              "      <td>positive</td>\n",
              "    </tr>\n",
              "  </tbody>\n",
              "</table>\n",
              "</div>"
            ],
            "text/plain": [
              "                                                text sentiment\n",
              "0      Sooo SAD I will miss you here in San Diego!!!  negative\n",
              "1                          my boss is bullying me...  negative\n",
              "2                     what interview! leave me alone  negative\n",
              "3   Sons of ****, why couldn`t they put them on t...  negative\n",
              "4  2am feedings for the baby are fun when he is a...  positive"
            ]
          },
          "metadata": {
            "tags": []
          },
          "execution_count": 32
        }
      ]
    },
    {
      "cell_type": "code",
      "metadata": {
        "id": "o50kHHtIL4B6",
        "colab": {
          "base_uri": "https://localhost:8080/"
        },
        "outputId": "59b25e33-d2da-4d11-c6c7-0cc23bc839e2"
      },
      "source": [
        "df['sentiment'].value_counts()"
      ],
      "execution_count": null,
      "outputs": [
        {
          "output_type": "execute_result",
          "data": {
            "text/plain": [
              "positive    8582\n",
              "negative    7781\n",
              "Name: sentiment, dtype: int64"
            ]
          },
          "metadata": {
            "tags": []
          },
          "execution_count": 33
        }
      ]
    },
    {
      "cell_type": "markdown",
      "metadata": {
        "id": "OsflOAEx7I4K"
      },
      "source": [
        "# Data Pre-Processing"
      ]
    },
    {
      "cell_type": "code",
      "metadata": {
        "id": "s8oGcBecsHsY"
      },
      "source": [
        "stemmer = PorterStemmer()\n",
        "stop = stopwords.words('english')\n",
        "\n",
        "def clean_text(text):\n",
        "    # Convert Emoji to strings\n",
        "    text = demojize(text)\n",
        "\n",
        "    # Remove HTML Tags\n",
        "    try:\n",
        "        text = html.document_fromstring(text).text_content()\n",
        "    except:\n",
        "        pass\n",
        "    \n",
        "    # Remove Hyperlinks\n",
        "    text = re.sub('http\\S+', ' ', text)\n",
        "\n",
        "    # Remove non alphabets\n",
        "    text = re.sub('[^a-zA-Z ]+', ' ', text)\n",
        "\n",
        "    # Lowercase and split\n",
        "    text = text.lower().split()\n",
        "\n",
        "    # Remove stopwords and short words\n",
        "    text = [stemmer.stem(word) for word in text if word not in stop and len(word) > 2]\n",
        "\n",
        "    # Join and Return\n",
        "    return ' '.join(text)"
      ],
      "execution_count": null,
      "outputs": []
    },
    {
      "cell_type": "code",
      "metadata": {
        "colab": {
          "base_uri": "https://localhost:8080/"
        },
        "id": "zjg1Sw8Qsr6j",
        "outputId": "ed346851-eb26-484a-8d66-70e708cee7fc"
      },
      "source": [
        "sample_text = \"Hi there! i've been trying this product: for a while now it's 🔥 https://www.amazon.in/s?k=keyboard&page=2\"\n",
        "print(f'Original String: {sample_text}')\n",
        "print(f'Cleaned String: {clean_text(sample_text)}')"
      ],
      "execution_count": null,
      "outputs": [
        {
          "output_type": "stream",
          "text": [
            "Original String: Hi there! i've been trying this product: for a while now it's 🔥 https://www.amazon.in/s?k=keyboard&page=2\n",
            "Cleaned String: trying product fire\n"
          ],
          "name": "stdout"
        }
      ]
    },
    {
      "cell_type": "code",
      "metadata": {
        "id": "QjzCM6gP6h8i"
      },
      "source": [
        "texts = df['text'].apply(clean_text)\n",
        "labels = df['sentiment'].map({'positive':1, 'negative': 0})"
      ],
      "execution_count": null,
      "outputs": []
    },
    {
      "cell_type": "code",
      "metadata": {
        "colab": {
          "base_uri": "https://localhost:8080/"
        },
        "id": "WWp4aZMm9YI7",
        "outputId": "0b608549-72ae-4a64-e978-a217fff87215"
      },
      "source": [
        "texts"
      ],
      "execution_count": null,
      "outputs": [
        {
          "output_type": "execute_result",
          "data": {
            "text/plain": [
              "0                                  sooo sad miss san diego\n",
              "1                                            boss bullying\n",
              "2                                    interview leave alone\n",
              "3                         sons put releases already bought\n",
              "4                            feedings baby fun smiles coos\n",
              "                               ...                        \n",
              "16358                                          enjoy night\n",
              "16359    wish could come see denver husband lost job af...\n",
              "16360    wondered rake client made clear net force devs...\n",
              "16361    yay good enjoy break probably need hectic week...\n",
              "16362                                                worth\n",
              "Name: text, Length: 16363, dtype: object"
            ]
          },
          "metadata": {
            "tags": []
          },
          "execution_count": 36
        }
      ]
    },
    {
      "cell_type": "code",
      "metadata": {
        "colab": {
          "base_uri": "https://localhost:8080/"
        },
        "id": "nUAk5ZD_9ZpP",
        "outputId": "2faa3989-0535-4412-ca7d-0dff4e4de621"
      },
      "source": [
        "labels"
      ],
      "execution_count": null,
      "outputs": [
        {
          "output_type": "execute_result",
          "data": {
            "text/plain": [
              "0        0\n",
              "1        0\n",
              "2        0\n",
              "3        0\n",
              "4        1\n",
              "        ..\n",
              "16358    1\n",
              "16359    0\n",
              "16360    0\n",
              "16361    1\n",
              "16362    1\n",
              "Name: sentiment, Length: 16363, dtype: int64"
            ]
          },
          "metadata": {
            "tags": []
          },
          "execution_count": 37
        }
      ]
    },
    {
      "cell_type": "code",
      "metadata": {
        "id": "sZDNwgzxnQT4"
      },
      "source": [
        "from sklearn.model_selection import train_test_split\n",
        "\n",
        "x_train, x_test, y_train, y_test = train_test_split(texts, labels, random_state = 0)"
      ],
      "execution_count": null,
      "outputs": []
    },
    {
      "cell_type": "markdown",
      "metadata": {
        "id": "kXgrDO7cHnK1"
      },
      "source": [
        "# ML For Text Classification"
      ]
    },
    {
      "cell_type": "code",
      "metadata": {
        "id": "e4Nrsmb4HmxJ"
      },
      "source": [
        "from sklearn.feature_extraction.text import TfidfVectorizer\n",
        "tfidf = TfidfVectorizer()"
      ],
      "execution_count": null,
      "outputs": []
    },
    {
      "cell_type": "code",
      "metadata": {
        "id": "NQhxtvEiEdD8"
      },
      "source": [
        "texts_train = tfidf.fit_transform(x_train).todense()\n",
        "texts_test = tfidf.transform(x_test).todense()"
      ],
      "execution_count": null,
      "outputs": []
    },
    {
      "cell_type": "code",
      "metadata": {
        "id": "_Vobq9IeEdBO"
      },
      "source": [
        "from sklearn.naive_bayes import MultinomialNB\n",
        "\n",
        "clf = MultinomialNB()"
      ],
      "execution_count": null,
      "outputs": []
    },
    {
      "cell_type": "code",
      "metadata": {
        "colab": {
          "base_uri": "https://localhost:8080/"
        },
        "id": "7NsAMR2JEc-7",
        "outputId": "e65328dd-9733-4f34-84c9-7d6cacd11c7d"
      },
      "source": [
        "clf.fit(texts_train, y_train)"
      ],
      "execution_count": null,
      "outputs": [
        {
          "output_type": "execute_result",
          "data": {
            "text/plain": [
              "MultinomialNB(alpha=1.0, class_prior=None, fit_prior=True)"
            ]
          },
          "metadata": {
            "tags": []
          },
          "execution_count": 42
        }
      ]
    },
    {
      "cell_type": "code",
      "metadata": {
        "id": "X1FgCQpIEc8S"
      },
      "source": [
        "from sklearn.metrics import classification_report"
      ],
      "execution_count": null,
      "outputs": []
    },
    {
      "cell_type": "code",
      "metadata": {
        "colab": {
          "base_uri": "https://localhost:8080/"
        },
        "id": "InqgqVxsH0in",
        "outputId": "94dd9851-3905-4ffa-c5b5-efa6d1e3de36"
      },
      "source": [
        "print(classification_report(y_test, clf.predict(texts_test)))"
      ],
      "execution_count": null,
      "outputs": [
        {
          "output_type": "stream",
          "text": [
            "              precision    recall  f1-score   support\n",
            "\n",
            "           0       0.87      0.83      0.85      1913\n",
            "           1       0.85      0.90      0.87      2178\n",
            "\n",
            "    accuracy                           0.86      4091\n",
            "   macro avg       0.86      0.86      0.86      4091\n",
            "weighted avg       0.86      0.86      0.86      4091\n",
            "\n"
          ],
          "name": "stdout"
        }
      ]
    },
    {
      "cell_type": "code",
      "metadata": {
        "id": "Y1G1kSw6h7zD"
      },
      "source": [
        ""
      ],
      "execution_count": null,
      "outputs": []
    }
  ]
}